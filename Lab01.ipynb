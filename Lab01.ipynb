{
 "cells": [
  {
   "cell_type": "markdown",
   "id": "beb1e207-2352-4131-95a9-817047c3d79d",
   "metadata": {},
   "source": [
    "Instituto de Investigación de Operaciones <br>\n",
    "Posgrado en Inteligencia de Negocios <br>\n",
    "Ciencia de Datos en Python <br>\n",
    "Seccion L <br>"
   ]
  },
  {
   "cell_type": "markdown",
   "id": "107830ef-2b25-4745-918d-c4d244b89ee2",
   "metadata": {},
   "source": [
    "<h1><center><strong>Laboratorio 1</strong></center></h1>"
   ]
  },
  {
   "cell_type": "markdown",
   "id": "01738da5-1754-4cf9-a772-0481b3da251a",
   "metadata": {},
   "source": [
    "<p style=\"text-align: right;\"> Andrea Guadalupe <br>\n",
    "Alvarez Ramos <br>\n",
    "Carne: 23003779 </p>"
   ]
  },
  {
   "cell_type": "markdown",
   "id": "510d3ea7-13a9-4597-96aa-87c0465c9f3b",
   "metadata": {
    "tags": []
   },
   "source": [
    "<center>Guatemala, 04 de febrero de 2024</center>"
   ]
  },
  {
   "cell_type": "markdown",
   "id": "6af0c115-86bb-4a1e-a283-9a1650e760e5",
   "metadata": {},
   "source": [
    "# Introducción\n",
    "\n",
    "En el mundo del desarrollo de software, Git y GitHub son dos herramientas fundamentales que desempeñan roles clave en el control de versiones y la colaboración en proyectos. Aunque a menudo se usan juntos, es importante comprender sus diferencias y cómo se complementan entre sí."
   ]
  },
  {
   "cell_type": "markdown",
   "id": "db71736d-580f-440e-a54e-010e5c02ed44",
   "metadata": {
    "tags": []
   },
   "source": [
    "# Git"
   ]
  },
  {
   "cell_type": "markdown",
   "id": "0e017dbb-6cd0-4e8e-8403-d78afc898ce9",
   "metadata": {},
   "source": [
    "## Definición\n",
    "\n",
    "Git es un sistema de control de versiones distribuido de código abierto que permite a los desarrolladores realizar un seguimiento de los cambios en su código fuente durante el desarrollo de un proyecto."
   ]
  },
  {
   "cell_type": "markdown",
   "id": "190ea283-ffa5-43d8-af58-0988f7024300",
   "metadata": {
    "tags": []
   },
   "source": [
    "## Características principales\n",
    "\n",
    "- **Distribuido**: Cada desarrollador tiene una copia completa del repositorio, lo que permite trabajar de forma independiente y sin conexión a Internet.\n",
    "- **Rápido**: Las operaciones locales son rápidas debido a que la mayoría de las operaciones se realizan en el disco duro local.\n",
    "- **Flexible**: Soporta flujos de trabajo diversos, como ramificaciones, fusiones y rebase.\n",
    "- **Seguro**: Utiliza criptografía para garantizar la integridad y autenticidad de los datos."
   ]
  },
  {
   "cell_type": "markdown",
   "id": "08e9326a-2438-4635-a111-39959f8b3d7f",
   "metadata": {},
   "source": [
    "## Uso común\n",
    "\n",
    "Los desarrolladores utilizan Git para:\n",
    "\n",
    "- Realizar seguimiento de cambios en el código fuente.\n",
    "- Trabajar en paralelo en diferentes funcionalidades o correcciones de errores utilizando ramificaciones.\n",
    "- Fusionar ramas de desarrollo de forma segura."
   ]
  },
  {
   "cell_type": "markdown",
   "id": "c880ec2f-7bef-4a4c-a0f0-7e1af3f3a3c0",
   "metadata": {},
   "source": [
    "## Ejemplos\n",
    "- **Clonar un repositorio** <br>\n",
    "git clone https://github.com/usuario/proyecto.git\n",
    "\n",
    "- **Crear una nueva rama** <br>\n",
    "git checkout -b nueva-funcionalidad\n",
    "\n",
    "- **Realizar cambios y agregar archivos** <br>\n",
    "git add archivo_modificado.py\n",
    "git add archivo_nuevo.py\n",
    "\n",
    "- **Confirmar los cambios** <br>\n",
    "git commit -m \"Agrega nueva funcionalidad\"\n",
    "\n",
    "- **Subir los cambios a GitHub** <br>\n",
    "git push origin nueva-funcionalidad"
   ]
  },
  {
   "cell_type": "markdown",
   "id": "46559e1c-b4e8-4232-9488-5549a9965c19",
   "metadata": {},
   "source": [
    "# GitHub"
   ]
  },
  {
   "cell_type": "markdown",
   "id": "fb94599d-7d7d-4319-a733-9df049596b97",
   "metadata": {},
   "source": [
    "## Definición\n",
    "\n",
    "GitHub es una plataforma de alojamiento de código basada en la nube que permite a los desarrolladores colaborar en proyectos utilizando Git como sistema de control de versiones."
   ]
  },
  {
   "cell_type": "markdown",
   "id": "fdd32731-8974-4e4f-a043-a8598f05c0fd",
   "metadata": {},
   "source": [
    "## Características principales\n",
    "\n",
    "- **Hospedaje de repositorios**: Proporciona un lugar centralizado para alojar repositorios Git públicos y privados.\n",
    "- **Colaboración**: Facilita la colaboración entre desarrolladores mediante funciones como solicitudes de extracción, problemas y comentarios en línea.\n",
    "- **Gestión de proyectos**: Ofrece herramientas para organizar y gestionar proyectos, incluyendo tableros Kanban y seguimiento de problemas.\n",
    "- **Integraciones**: Se integra con muchas otras herramientas y servicios, como CI/CD, servicios de nube y herramientas de gestión de tareas."
   ]
  },
  {
   "cell_type": "markdown",
   "id": "879321f2-b4ca-4174-ac9a-e89398370c5c",
   "metadata": {},
   "source": [
    "## Uso común\n",
    "\n",
    "Los desarrolladores utilizan GitHub para:\n",
    "\n",
    "- Compartir y colaborar en proyectos de código abierto y privados.\n",
    "- Contribuir a proyectos de otros desarrolladores mediante solicitudes de extracción.\n",
    "- Gestionar tareas y seguimiento de problemas relacionados con el desarrollo de software."
   ]
  },
  {
   "cell_type": "markdown",
   "id": "1e5cd1d6-4463-4ee0-bd8c-b6162a8ef83c",
   "metadata": {},
   "source": [
    "# Comparación entre Git y GitHub\n",
    "\n",
    "| Característica      | Git                                             | GitHub                                               |\n",
    "|---------------------|-------------------------------------------------|------------------------------------------------------|\n",
    "| Tipo de sistema     | Sistema de control de versiones distribuido     | Plataforma de alojamiento de código basada en la nube |\n",
    "| Uso                 | Utilizado para realizar seguimiento de cambios | Utilizado para alojar repositorios y colaboración     |\n",
    "| Instalación         | Debe ser instalado en el sistema local         | No requiere instalación, es una plataforma en línea  |\n",
    "| Funciones adicionales | No proporciona herramientas adicionales       | Proporciona herramientas para colaboración y gestión de proyectos |\n",
    "| Ejemplos de uso     | Git se usa en línea de comandos o a través de herramientas de terceros | GitHub se accede a través de un navegador web o API |\n"
   ]
  },
  {
   "cell_type": "markdown",
   "id": "387e2991-6539-4019-8faf-f28c86a28233",
   "metadata": {},
   "source": [
    "# Conclusiones\n",
    "\n",
    "En resumen, Git y GitHub son herramientas complementarias que se utilizan en conjunto para gestionar proyectos de desarrollo de software. Git proporciona la capacidad de realizar un seguimiento de los cambios en el código fuente a nivel local, mientras que GitHub ofrece una plataforma en línea para alojar repositorios, colaborar en proyectos y gestionar el trabajo en equipo. Al comprender las diferencias y similitudes entre Git y GitHub, los desarrolladores pueden aprovechar al máximo estas herramientas para mejorar su flujo de trabajo y colaboración en proyectos de software.\n"
   ]
  },
  {
   "cell_type": "markdown",
   "id": "1dd6a736-f1e5-464f-af37-8203a79508c8",
   "metadata": {},
   "source": [
    "# Referencias\n",
    "\n",
    "- [Git - Documentación oficial](https://git-scm.com/doc)\n",
    "- [GitHub - Documentación oficial](https://docs.github.com/es)\n",
    "- [Pro Git - Libro sobre Git](https://git-scm.com/book/en/v2)\n"
   ]
  },
  {
   "cell_type": "code",
   "execution_count": 9,
   "id": "b1119f63-862b-4d39-bc1f-57358454fef3",
   "metadata": {
    "tags": []
   },
   "outputs": [
    {
     "name": "stdout",
     "output_type": "stream",
     "text": [
      "Reinitialized existing Git repository in C:/Users/HP/OneDrive - Universidad Rafael Landivar/Universidad/Galileo/2024/Primer Trimestre/Data Science/Lab01/.git/\n"
     ]
    },
    {
     "name": "stderr",
     "output_type": "stream",
     "text": [
      "warning: in the working copy of 'Lab01.ipynb', LF will be replaced by CRLF the next time Git touches it\n"
     ]
    },
    {
     "name": "stdout",
     "output_type": "stream",
     "text": [
      "[main 45db285] Upload Lab01\n",
      " 1 file changed, 52 insertions(+), 22 deletions(-)\n"
     ]
    },
    {
     "name": "stderr",
     "output_type": "stream",
     "text": [
      "error: remote origin already exists.\n"
     ]
    },
    {
     "name": "stdout",
     "output_type": "stream",
     "text": [
      "branch 'main' set up to track 'origin/main'.\n"
     ]
    },
    {
     "name": "stderr",
     "output_type": "stream",
     "text": [
      "To https://github.com/AndreaLaLupe/DataScienceCourse.git\n",
      "   71d1c35..45db285  main -> main\n"
     ]
    }
   ],
   "source": [
    "%%bash\n",
    "git init\n",
    "git add Lab01.ipynb\n",
    "git commit -m \"Upload Lab01\"\n",
    "git remote add origin https://github.com/AndreaLaLupe/DataScienceCourse.git\n",
    "git push -u origin main"
   ]
  },
  {
   "cell_type": "code",
   "execution_count": 3,
   "id": "27eb1ac7-a27b-411c-82b3-e20c662e8695",
   "metadata": {},
   "outputs": [],
   "source": [
    "%%bash\n",
    "git remote remove origin"
   ]
  },
  {
   "cell_type": "code",
   "execution_count": 5,
   "id": "7b18a201-67e8-4c05-82fa-fc53af5cd152",
   "metadata": {},
   "outputs": [
    {
     "name": "stdout",
     "output_type": "stream",
     "text": [
      "master\n"
     ]
    }
   ],
   "source": [
    "%%bash\n",
    "git branch --show-current\n"
   ]
  },
  {
   "cell_type": "code",
   "execution_count": 7,
   "id": "30aeab86-9abc-4444-9653-480edea210f4",
   "metadata": {
    "tags": []
   },
   "outputs": [
    {
     "name": "stderr",
     "output_type": "stream",
     "text": [
      "Switched to a new branch 'main'\n"
     ]
    }
   ],
   "source": [
    "%%bash\n",
    "git checkout -b main"
   ]
  },
  {
   "cell_type": "code",
   "execution_count": null,
   "id": "69a124e9-ddd8-4313-9a40-127527a932a4",
   "metadata": {},
   "outputs": [],
   "source": []
  }
 ],
 "metadata": {
  "kernelspec": {
   "display_name": "Python 3 (ipykernel)",
   "language": "python",
   "name": "python3"
  },
  "language_info": {
   "codemirror_mode": {
    "name": "ipython",
    "version": 3
   },
   "file_extension": ".py",
   "mimetype": "text/x-python",
   "name": "python",
   "nbconvert_exporter": "python",
   "pygments_lexer": "ipython3",
   "version": "3.11.5"
  }
 },
 "nbformat": 4,
 "nbformat_minor": 5
}
